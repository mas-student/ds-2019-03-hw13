{
 "cells": [
  {
   "cell_type": "code",
   "execution_count": 9,
   "metadata": {},
   "outputs": [
    {
     "name": "stderr",
     "output_type": "stream",
     "text": [
      "Using TensorFlow backend.\n"
     ]
    }
   ],
   "source": [
    "import numpy as np\n",
    "np.random.seed(1337)  # for reproducibility\n",
    "from keras.datasets import mnist\n",
    "from keras.models import Sequential\n",
    "from keras.layers import Dense, Dropout, Activation, Flatten\n",
    "from keras.layers import Convolution2D, MaxPooling2D\n",
    "from keras.utils import np_utils\n",
    "import matplotlib.pyplot as plt"
   ]
  },
  {
   "cell_type": "markdown",
   "metadata": {},
   "source": [
    "### Опрос в начале лекции:\n",
    "https://forms.gle/cNRwS15sfJG9yADx6"
   ]
  },
  {
   "cell_type": "markdown",
   "metadata": {},
   "source": [
    "# План занятия:\n",
    "- нейронные сети обзор,\n",
    "- алгоритм обратного распространения ошибки,\n",
    "- стохастический градиентный спуск для оптимизации функции потерь,\n",
    "- GPU и нейронные сети,\n",
    "- нейронные сети in action: pytorch vs tensorflow vs keras\n",
    "- примеры задач, решаемых нейронными сетями"
   ]
  },
  {
   "cell_type": "markdown",
   "metadata": {},
   "source": [
    "### Нейронная сеть\n",
    "\n",
    "Рассмотрим задачу бинарной классификации. Все объекты в тренировочной выборке отмечены $1$ и $0$  \n",
    "\n",
    "Каждый вход - вектор вещественных чисел $\\boldsymbol{x} = (1, x_1, x_2, ..., x_d) \\in \\mathbb{R}^d$.  \n",
    "Каждый вход отмечен известной меткой - выходом $y(\\boldsymbol{x})= {0, 1}$\n",
    "\n",
    "Будем искать такие веса $w_0, w_1, ..., w_d \\in \\mathbb{R}^d$, чтобы минимизировать перекрестную энтропию:\n",
    "\n",
    "$$E(\\boldsymbol{w}) = - \\frac{1}{N}\\sum_{i=1}^{N}(y_i log \\sigma(\\boldsymbol{w}^T \\boldsymbol{x}_i) + (1 - y_i)log (1 - \\sigma(\\boldsymbol{w}^T\\boldsymbol{x}_i))),$$\n",
    "\n",
    "где $\\sigma(x) = \\frac{1}{1 + e ^{-x}}$ - функция активации. \n",
    "\n",
    "\n",
    "Оптимизируем градиентным спуском.\n",
    "\n",
    "\n",
    "Один перцептрон - это разновидность линейной регресии. Разные нелинейности на выходе нейрона можно рассматривать как разные формы функции ошибки.\n",
    "\n",
    "\n",
    "\n",
    "<img src='neuron.png'>\n",
    "\n",
    "\n",
    "Линейная комбинация входов, потом нелинейность\n",
    "$$y = h(\\boldsymbol{w}^T\\boldsymbol{x})= h(\\sum_{i}w_i x_i)$$"
   ]
  },
  {
   "cell_type": "markdown",
   "metadata": {},
   "source": [
    "### Обратное распространение ошибки\n",
    "Выход одного нейрона:\n",
    "$$o_{j}=\\varphi\\left(\\text { net }_{j}\\right)=\\varphi\\left(\\sum_{k=1}^{n} w_{k j} o_{k}\\right)$$\n",
    "\n",
    "В качестве функции активации будем рассматривать сигмоиду (также стоит посмотреть ReLU, tanh)\n",
    "$$\\varphi(z)=\\frac{1}{1+e^{-z}}$$\n",
    "\n",
    "Производная сигмоиды имеет вид:\n",
    "$$\\frac{d \\varphi(z)}{d z}=\\varphi(z)(1-\\varphi(z))$$\n",
    "\n",
    "Для того, чтобы свести задачу к оптимизационной нужно научиться рассчитывать градиент функции потерь по весам нейронной сети:\n",
    "$$\\frac{\\partial E}{\\partial w_{i j}}=\\frac{\\partial E}{\\partial o_{j}} \\frac{\\partial o_{j}}{\\partial w_{i j}}=\\frac{\\partial E}{\\partial o_{j}} \\frac{\\partial o_{j}}{\\partial т_{j}} \\frac{\\partial n_{j}}{\\partial w_{i j}}$$\n",
    "\n",
    "В последней части выражения только один $n_j$ от $w_{i j}$.\n",
    "$$\\frac{\\partial n_{j}}{\\partial w_{i j}}=\\frac{\\partial}{\\partial w_{i j}}\\left(\\sum_{k=1}^{n} w_{k j} o_{k}\\right)=\\frac{\\partial}{\\partial w_{i j}} w_{i j} o_{i}=o_{i}$$\n",
    "\n",
    "$$\\frac{\\partial E}{\\partial o_{j}}=\\sum_{\\ell \\in L}\\left(\\frac{\\partial E}{\\partial \\text { net }_{\\ell}} \\frac{\\partial \\text { net }_{\\ell}}{\\partial o_{j}}\\right)=\\sum_{\\ell \\in L}\\left(\\frac{\\partial E}{\\partial o_{\\ell}} \\frac{\\partial o_{\\ell}}{\\partial \\text { net }_{\\ell}} \\frac{\\partial \\text { net }_{\\ell}}{\\partial o_{j}}\\right)=\\sum_{\\ell \\in L}\\left(\\frac{\\partial E}{\\partial o_{\\ell}} \\frac{\\partial o_{\\ell}}{\\partial \\text { net }_{\\ell}} w_{j \\ell}\\right)$$\n",
    "\n",
    "Итого получаем:\n",
    "\n",
    "$$\\frac{\\partial E}{\\partial w_{i j}}=\\frac{\\partial E}{\\partial o_{j}} \\frac{\\partial o_{j}}{\\partial n e t_{j}} \\frac{\\partial n e t_{j}}{\\partial w_{i j}}=\\frac{\\partial E}{\\partial o_{j}} \\frac{\\partial o_{j}}{\\partial n e t_{j}} o_{i}$$\n",
    "\n",
    "$$\\frac{\\partial E}{\\partial w_{i j}}=o_{i} \\delta_{j}$$\n",
    "\n",
    "$$\\delta_{j}=\\frac{\\partial E}{\\partial o_{j}} \\frac{\\partial o_{j}}{\\partial \\text { net }_{j}}$$"
   ]
  },
  {
   "cell_type": "markdown",
   "metadata": {},
   "source": [
    "### Визуализация back-propagation\n",
    "\n",
    "https://google-developers.appspot.com/machine-learning/crash-course/backprop-scroll/"
   ]
  },
  {
   "cell_type": "markdown",
   "metadata": {},
   "source": [
    "### Граф вычислений и дифференцирование\n",
    "\n",
    "Рассмотрим функцию $$x^2 + xy + (x + y)^2$$\n",
    "\n",
    "Ее можно представить в виде графа несколькими способами (как композицию простых функций):\n",
    "\n",
    "<img src='graph.png'>\n",
    "\n",
    "Дифференцирование. Пользуемся правилом дифференцирования сложной функции.\n",
    "\n",
    "$$(f\\circ g)\\prime(x) = (f(g(x)))\\prime = f\\prime(g(x))g\\prime(x)$$\n",
    "\n",
    "Если дифференцируем по векторам - получаем градиент, а если по матрице - получаем матрицу Якоби.\n",
    "\n",
    "<img src='g1.png'>\n",
    "\n",
    "Forward propagation (прямое распространение). Вычисляем $\\frac{\\delta f}{\\delta x} $ как сложную функцию\n",
    "\n",
    "<img src='g2.png'>\n",
    "\n",
    "Back propagation (обратное распространение). Начинаем от конца и идем как  $\\frac{\\delta f}{\\delta g} = \\sum_{g \\prime \\in Children(g)} \\frac{\\delta f}{\\delta g \\prime} \\frac{\\delta g \\prime}{\\delta g } $ \n",
    "\n",
    "<img src='g3.png'>\n",
    "\n",
    "Разбор примера см в [1]"
   ]
  },
  {
   "cell_type": "code",
   "execution_count": null,
   "metadata": {},
   "outputs": [],
   "source": [
    "z = 1/(1 + np.exp(-np.dot(W, x))) # forward pass\n",
    "dx = np.dot(W.T, z*(1-z)) # backward pass: local gradient for x\n",
    "dW = np.outer(z*(1-z), x) # backward pass: local gradient for W"
   ]
  },
  {
   "cell_type": "markdown",
   "metadata": {},
   "source": [
    "### Проблемы данного подхода:\n",
    "- vanishing gradients\n",
    "при неаккуратно инициализации или препроцессинге данных градиенты могут сильно уменьшиться (см. производную сигмоиды)"
   ]
  },
  {
   "cell_type": "markdown",
   "metadata": {},
   "source": [
    "### Стохастический градиентный спуск для оптимизации функции потерь\n",
    "\n",
    "- для оптимизации функции потерь далее можно использовать стохастический градиентный спуск и методы, рассмотренные в занятиях по оптимизации функций,\n",
    "\n",
    "<img src='grad.png'>\n",
    "\n",
    "#### Градиентный спуск\n",
    "\n",
    "```{python}\n",
    "1.function gd(X, alpha, epsilon):\n",
    "2.    initialise theta \n",
    "3.    do: \n",
    "4.        theta = new_theta\n",
    "5.        new_theta = theta - alpha * grad(X, theta)\n",
    "6.    until dist(new_theta, theta) < epsilon\n",
    "7.    return theta\n",
    "```\n",
    "\n",
    "#### Стохастический градиентный спуск\n",
    "\n",
    "```{python}\n",
    "1.function sgd(X, alpha, epsilon):\n",
    "2. \tinitialise theta \n",
    "3. \tdo: \n",
    "4.        X = shuffle(X)\n",
    "5.        for x in X:\n",
    "6.            theta = new_theta\n",
    "7.            new_theta = theta - alpha * grad(x, theta)\n",
    "8.\tuntil dist(new_theta, theta) < epsilon\n",
    "9.\treturn theta\n",
    "```"
   ]
  },
  {
   "cell_type": "markdown",
   "metadata": {},
   "source": [
    "# Нейронные сети in Action\n",
    "\n",
    "## Современные фреймворки\n",
    "### tensorflow\n",
    "- разработан google\n",
    "- использует статический вычислительный граф\n",
    "- хорошо подходит для продакшен разработки, переноса кода на другие платформы\n",
    "\n",
    "### pytorch\n",
    "- разработан facebook\n",
    "- использует динамический вычислительный граф\n",
    "- подходит для прототипирования, небольших моделей\n",
    "\n",
    "### keras\n",
    "- high level api над мощными библиотеками машинного обучения: tensorflow, cntk или theano\n",
    "- удобно использовать для быстрого прототипирования\n",
    "- хорошо читаемый код моделей\n",
    "- низкий порог входа"
   ]
  },
  {
   "cell_type": "markdown",
   "metadata": {},
   "source": [
    "### Github statistics:\n",
    "torch: 7,235 + (py) 25,019  \n",
    "tensorflow: 63,330  \n",
    "keras: 25,222  "
   ]
  },
  {
   "cell_type": "markdown",
   "metadata": {},
   "source": [
    "### Пример датасет MNIST:"
   ]
  },
  {
   "cell_type": "code",
   "execution_count": 13,
   "metadata": {},
   "outputs": [
    {
     "data": {
      "image/png": "[encoded data removed]",
      "text/plain": [
       "<Figure size 864x864 with 36 Axes>"
      ]
     },
     "metadata": {
      "needs_background": "light"
     },
     "output_type": "display_data"
    }
   ],
   "source": [
    "# plot first 36 images in MNIST\n",
    "fig, ax = plt.subplots(6, 6, figsize = (12, 12))\n",
    "fig.suptitle('First 36 images in MNIST')\n",
    "fig.tight_layout(pad = 0.3, rect = [0, 0, 0.9, 0.9])\n",
    "for x, y in [(i, j) for i in range(6) for j in range(6)]:\n",
    "    ax[x, y].imshow(X_train[x + y * 6].reshape((28, 28)), cmap = 'gray')\n",
    "    ax[x, y].set_title(y_train[x + y * 6])"
   ]
  },
  {
   "cell_type": "markdown",
   "metadata": {},
   "source": [
    "####  Сверточные нейронные сети\n",
    "<img src=\"conv_nn.png\">"
   ]
  },
  {
   "cell_type": "markdown",
   "metadata": {},
   "source": [
    "## Keras"
   ]
  },
  {
   "cell_type": "code",
   "execution_count": 14,
   "metadata": {},
   "outputs": [],
   "source": [
    "batch_size = 128\n",
    "nb_classes = 10\n",
    "nb_epoch = 12\n",
    "\n",
    "# input image dimensions\n",
    "img_rows, img_cols = 28, 28\n",
    "# number of convolutional filters to use\n",
    "nb_filters = 32\n",
    "# size of pooling area for max pooling\n",
    "pool_size = (2, 2)\n",
    "# convolution kernel size\n",
    "kernel_size = (3, 3)"
   ]
  },
  {
   "cell_type": "code",
   "execution_count": 15,
   "metadata": {},
   "outputs": [],
   "source": [
    "# the data, shuffled and split between train and test sets\n",
    "(X_train, y_train), (X_test, y_test) = mnist.load_data()"
   ]
  },
  {
   "cell_type": "code",
   "execution_count": 16,
   "metadata": {},
   "outputs": [],
   "source": [
    "X_train = X_train.reshape(X_train.shape[0], 1, img_rows, img_cols)\n",
    "X_test = X_test.reshape(X_test.shape[0], 1, img_rows, img_cols)\n",
    "input_shape = (1, img_rows, img_cols)"
   ]
  },
  {
   "cell_type": "code",
   "execution_count": 17,
   "metadata": {},
   "outputs": [
    {
     "name": "stdout",
     "output_type": "stream",
     "text": [
      "X_train shape: (60000, 1, 28, 28)\n",
      "60000 train samples\n",
      "10000 test samples\n"
     ]
    }
   ],
   "source": [
    "X_train = X_train.astype('float32')\n",
    "X_test = X_test.astype('float32')\n",
    "X_train /= 255\n",
    "X_test /= 255\n",
    "print('X_train shape:', X_train.shape)\n",
    "print(X_train.shape[0], 'train samples')\n",
    "print(X_test.shape[0], 'test samples')"
   ]
  },
  {
   "cell_type": "code",
   "execution_count": 18,
   "metadata": {},
   "outputs": [],
   "source": [
    "# convert class vectors to binary class matrices\n",
    "Y_train = np_utils.to_categorical(y_train, nb_classes)\n",
    "Y_test = np_utils.to_categorical(y_test, nb_classes)"
   ]
  },
  {
   "cell_type": "code",
   "execution_count": 19,
   "metadata": {},
   "outputs": [
    {
     "name": "stdout",
     "output_type": "stream",
     "text": [
      "(1, 28, 28)\n"
     ]
    }
   ],
   "source": [
    "print(input_shape)"
   ]
  },
  {
   "cell_type": "code",
   "execution_count": 20,
   "metadata": {},
   "outputs": [
    {
     "name": "stderr",
     "output_type": "stream",
     "text": [
      "WARNING: Logging before flag parsing goes to stderr.\n",
      "W0720 10:54:47.378616 4640622016 deprecation_wrapper.py:119] From /Users/an/Projects/otus/venv3/lib/python3.6/site-packages/keras/backend/tensorflow_backend.py:74: The name tf.get_default_graph is deprecated. Please use tf.compat.v1.get_default_graph instead.\n",
      "\n",
      "W0720 10:54:47.461920 4640622016 deprecation_wrapper.py:119] From /Users/an/Projects/otus/venv3/lib/python3.6/site-packages/keras/backend/tensorflow_backend.py:517: The name tf.placeholder is deprecated. Please use tf.compat.v1.placeholder instead.\n",
      "\n",
      "W0720 10:54:47.483736 4640622016 deprecation_wrapper.py:119] From /Users/an/Projects/otus/venv3/lib/python3.6/site-packages/keras/backend/tensorflow_backend.py:4138: The name tf.random_uniform is deprecated. Please use tf.random.uniform instead.\n",
      "\n",
      "W0720 10:54:47.562244 4640622016 deprecation_wrapper.py:119] From /Users/an/Projects/otus/venv3/lib/python3.6/site-packages/keras/backend/tensorflow_backend.py:174: The name tf.get_default_session is deprecated. Please use tf.compat.v1.get_default_session instead.\n",
      "\n",
      "W0720 10:54:47.566431 4640622016 deprecation_wrapper.py:119] From /Users/an/Projects/otus/venv3/lib/python3.6/site-packages/keras/backend/tensorflow_backend.py:181: The name tf.ConfigProto is deprecated. Please use tf.compat.v1.ConfigProto instead.\n",
      "\n",
      "/Users/an/Projects/otus/venv3/lib/python3.6/site-packages/ipykernel_launcher.py:5: UserWarning: Update your `Conv2D` call to the Keras 2 API: `Conv2D(32, (3, 3))`\n",
      "  \"\"\"\n",
      "W0720 10:54:47.761842 4640622016 deprecation_wrapper.py:119] From /Users/an/Projects/otus/venv3/lib/python3.6/site-packages/keras/backend/tensorflow_backend.py:3976: The name tf.nn.max_pool is deprecated. Please use tf.nn.max_pool2d instead.\n",
      "\n",
      "W0720 10:54:47.827507 4640622016 deprecation.py:506] From /Users/an/Projects/otus/venv3/lib/python3.6/site-packages/keras/backend/tensorflow_backend.py:3445: calling dropout (from tensorflow.python.ops.nn_ops) with keep_prob is deprecated and will be removed in a future version.\n",
      "Instructions for updating:\n",
      "Please use `rate` instead of `keep_prob`. Rate should be set to `rate = 1 - keep_prob`.\n",
      "W0720 10:54:48.897370 4640622016 deprecation_wrapper.py:119] From /Users/an/Projects/otus/venv3/lib/python3.6/site-packages/keras/optimizers.py:790: The name tf.train.Optimizer is deprecated. Please use tf.compat.v1.train.Optimizer instead.\n",
      "\n"
     ]
    }
   ],
   "source": [
    "model = Sequential()\n",
    "\n",
    "model.add(Convolution2D(32, (3, 3), activation='relu', input_shape=(1,28,28), data_format='channels_first'))\n",
    "model.add(Activation('relu'))\n",
    "model.add(Convolution2D(nb_filters, kernel_size[0], kernel_size[1]))\n",
    "model.add(Activation('relu'))\n",
    "model.add(MaxPooling2D(pool_size=pool_size))\n",
    "model.add(Dropout(0.25))\n",
    "\n",
    "model.add(Flatten())\n",
    "model.add(Dense(128))\n",
    "model.add(Activation('relu'))\n",
    "model.add(Dropout(0.5))\n",
    "model.add(Dense(nb_classes))\n",
    "model.add(Activation('softmax'))\n",
    "\n",
    "model.compile(loss='categorical_crossentropy',\n",
    "              optimizer='adadelta',\n",
    "              metrics=['accuracy'])"
   ]
  },
  {
   "cell_type": "code",
   "execution_count": 21,
   "metadata": {},
   "outputs": [
    {
     "name": "stdout",
     "output_type": "stream",
     "text": [
      "_________________________________________________________________\n",
      "Layer (type)                 Output Shape              Param #   \n",
      "=================================================================\n",
      "conv2d_1 (Conv2D)            (None, 32, 26, 26)        320       \n",
      "_________________________________________________________________\n",
      "activation_1 (Activation)    (None, 32, 26, 26)        0         \n",
      "_________________________________________________________________\n",
      "conv2d_2 (Conv2D)            (None, 30, 24, 32)        7520      \n",
      "_________________________________________________________________\n",
      "activation_2 (Activation)    (None, 30, 24, 32)        0         \n",
      "_________________________________________________________________\n",
      "max_pooling2d_1 (MaxPooling2 (None, 15, 12, 32)        0         \n",
      "_________________________________________________________________\n",
      "dropout_1 (Dropout)          (None, 15, 12, 32)        0         \n",
      "_________________________________________________________________\n",
      "flatten_1 (Flatten)          (None, 5760)              0         \n",
      "_________________________________________________________________\n",
      "dense_1 (Dense)              (None, 128)               737408    \n",
      "_________________________________________________________________\n",
      "activation_3 (Activation)    (None, 128)               0         \n",
      "_________________________________________________________________\n",
      "dropout_2 (Dropout)          (None, 128)               0         \n",
      "_________________________________________________________________\n",
      "dense_2 (Dense)              (None, 10)                1290      \n",
      "_________________________________________________________________\n",
      "activation_4 (Activation)    (None, 10)                0         \n",
      "=================================================================\n",
      "Total params: 746,538\n",
      "Trainable params: 746,538\n",
      "Non-trainable params: 0\n",
      "_________________________________________________________________\n"
     ]
    }
   ],
   "source": [
    "model.summary()"
   ]
  },
  {
   "cell_type": "code",
   "execution_count": 22,
   "metadata": {},
   "outputs": [
    {
     "name": "stderr",
     "output_type": "stream",
     "text": [
      "/Users/an/Projects/otus/venv3/lib/python3.6/site-packages/ipykernel_launcher.py:2: UserWarning: The `nb_epoch` argument in `fit` has been renamed `epochs`.\n",
      "  \n",
      "W0720 10:55:01.488023 4640622016 deprecation.py:323] From /Users/an/Projects/otus/venv3/lib/python3.6/site-packages/tensorflow/python/ops/math_grad.py:1250: add_dispatch_support.<locals>.wrapper (from tensorflow.python.ops.array_ops) is deprecated and will be removed in a future version.\n",
      "Instructions for updating:\n",
      "Use tf.where in 2.0, which has the same broadcast rule as np.where\n"
     ]
    },
    {
     "name": "stdout",
     "output_type": "stream",
     "text": [
      "Train on 60000 samples, validate on 10000 samples\n",
      "Epoch 1/5\n",
      "60000/60000 [==============================] - 249s 4ms/step - loss: 0.3356 - acc: 0.8970 - val_loss: 0.0908 - val_acc: 0.9708\n",
      "Epoch 2/5\n",
      "60000/60000 [==============================] - 239s 4ms/step - loss: 0.1223 - acc: 0.9642 - val_loss: 0.0552 - val_acc: 0.9824\n",
      "Epoch 3/5\n",
      "60000/60000 [==============================] - 219s 4ms/step - loss: 0.0896 - acc: 0.9737 - val_loss: 0.0472 - val_acc: 0.9849\n",
      "Epoch 4/5\n",
      "60000/60000 [==============================] - 225s 4ms/step - loss: 0.0740 - acc: 0.9777 - val_loss: 0.0368 - val_acc: 0.9880\n",
      "Epoch 5/5\n",
      "60000/60000 [==============================] - 203s 3ms/step - loss: 0.0637 - acc: 0.9811 - val_loss: 0.0367 - val_acc: 0.9872\n"
     ]
    }
   ],
   "source": [
    "history = model.fit(X_train, Y_train, batch_size=batch_size, nb_epoch=5,\n",
    "          verbose=1, validation_data=(X_test, Y_test))"
   ]
  },
  {
   "cell_type": "code",
   "execution_count": 17,
   "metadata": {},
   "outputs": [
    {
     "name": "stdout",
     "output_type": "stream",
     "text": [
      "Test score: 0.02697177064749976\n",
      "Test accuracy: 0.991\n"
     ]
    }
   ],
   "source": [
    "score = model.evaluate(X_test, Y_test, verbose=0)\n",
    "print('Test score:', score[0])\n",
    "print('Test accuracy:', score[1])"
   ]
  },
  {
   "cell_type": "code",
   "execution_count": 18,
   "metadata": {},
   "outputs": [
    {
     "data": {
      "image/png": "[encoded data removed]",
      "text/plain": [
       "<Figure size 432x288 with 1 Axes>"
      ]
     },
     "metadata": {
      "needs_background": "light"
     },
     "output_type": "display_data"
    }
   ],
   "source": [
    "plt.plot(history.history['acc'])\n",
    "plt.plot(history.history['val_acc'])\n",
    "plt.title('model accuracy')\n",
    "plt.ylabel('accuracy')\n",
    "plt.xlabel('epoch')\n",
    "plt.legend(['train', 'test'], loc='upper left')\n",
    "plt.show()"
   ]
  },
  {
   "cell_type": "markdown",
   "metadata": {},
   "source": [
    "## Tensorflow\n",
    "\n",
    "https://www.tensorflow.org/tutorials/estimators/cnn"
   ]
  },
  {
   "cell_type": "code",
   "execution_count": 19,
   "metadata": {},
   "outputs": [],
   "source": [
    "from __future__ import absolute_import, division, print_function, unicode_literals\n",
    "\n",
    "import tensorflow as tf\n",
    "import numpy as np\n",
    "\n",
    "tf.logging.set_verbosity(tf.logging.INFO)"
   ]
  },
  {
   "cell_type": "code",
   "execution_count": 20,
   "metadata": {},
   "outputs": [],
   "source": [
    "def cnn_model_fn(features, labels, mode):\n",
    "  \"\"\"Model function for CNN.\"\"\"\n",
    "  # Input Layer\n",
    "  input_layer = tf.reshape(features[\"x\"], [-1, 28, 28, 1])\n",
    "\n",
    "  # Convolutional Layer #1\n",
    "  conv1 = tf.layers.conv2d(\n",
    "      inputs=input_layer,\n",
    "      filters=32,\n",
    "      kernel_size=[5, 5],\n",
    "      padding=\"same\",\n",
    "      activation=tf.nn.relu)\n",
    "\n",
    "  # Pooling Layer #1\n",
    "  pool1 = tf.layers.max_pooling2d(inputs=conv1, pool_size=[2, 2], strides=2)\n",
    "\n",
    "  # Convolutional Layer #2 and Pooling Layer #2\n",
    "  conv2 = tf.layers.conv2d(\n",
    "      inputs=pool1,\n",
    "      filters=64,\n",
    "      kernel_size=[5, 5],\n",
    "      padding=\"same\",\n",
    "      activation=tf.nn.relu)\n",
    "  pool2 = tf.layers.max_pooling2d(inputs=conv2, pool_size=[2, 2], strides=2)\n",
    "\n",
    "  # Dense Layer\n",
    "  pool2_flat = tf.reshape(pool2, [-1, 7 * 7 * 64])\n",
    "  dense = tf.layers.dense(inputs=pool2_flat, units=1024, activation=tf.nn.relu)\n",
    "  dropout = tf.layers.dropout(\n",
    "      inputs=dense, rate=0.4, training=mode == tf.estimator.ModeKeys.TRAIN)\n",
    "\n",
    "  # Logits Layer\n",
    "  logits = tf.layers.dense(inputs=dropout, units=10)\n",
    "\n",
    "  predictions = {\n",
    "      # Generate predictions (for PREDICT and EVAL mode)\n",
    "      \"classes\": tf.argmax(input=logits, axis=1),\n",
    "      # Add `softmax_tensor` to the graph. It is used for PREDICT and by the\n",
    "      # `logging_hook`.\n",
    "      \"probabilities\": tf.nn.softmax(logits, name=\"softmax_tensor\")\n",
    "  }\n",
    "\n",
    "  if mode == tf.estimator.ModeKeys.PREDICT:\n",
    "    return tf.estimator.EstimatorSpec(mode=mode, predictions=predictions)\n",
    "\n",
    "  # Calculate Loss (for both TRAIN and EVAL modes)\n",
    "  loss = tf.losses.sparse_softmax_cross_entropy(labels=labels, logits=logits)\n",
    "\n",
    "  # Configure the Training Op (for TRAIN mode)\n",
    "  if mode == tf.estimator.ModeKeys.TRAIN:\n",
    "    optimizer = tf.train.GradientDescentOptimizer(learning_rate=0.001)\n",
    "    train_op = optimizer.minimize(\n",
    "        loss=loss,\n",
    "        global_step=tf.train.get_global_step())\n",
    "    return tf.estimator.EstimatorSpec(mode=mode, loss=loss, train_op=train_op)\n",
    "\n",
    "  # Add evaluation metrics (for EVAL mode)\n",
    "  eval_metric_ops = {\n",
    "      \"accuracy\": tf.metrics.accuracy(\n",
    "          labels=labels, predictions=predictions[\"classes\"])\n",
    "  }\n",
    "  return tf.estimator.EstimatorSpec(\n",
    "      mode=mode, loss=loss, eval_metric_ops=eval_metric_ops)"
   ]
  },
  {
   "cell_type": "code",
   "execution_count": 21,
   "metadata": {},
   "outputs": [],
   "source": [
    "# Load training and eval data\n",
    "((train_data, train_labels),\n",
    " (eval_data, eval_labels)) = tf.keras.datasets.mnist.load_data()\n",
    "\n",
    "train_data = train_data/np.float32(255)\n",
    "train_labels = train_labels.astype(np.int32)  # not required\n",
    "\n",
    "eval_data = eval_data/np.float32(255)\n",
    "eval_labels = eval_labels.astype(np.int32)  # not required"
   ]
  },
  {
   "cell_type": "code",
   "execution_count": 22,
   "metadata": {},
   "outputs": [
    {
     "name": "stderr",
     "output_type": "stream",
     "text": [
      "I0719 23:49:10.610414 4501730752 estimator.py:1790] Using default config.\n",
      "I0719 23:49:10.632548 4501730752 estimator.py:209] Using config: {'_model_dir': '/tmp/mnist_convnet_model', '_tf_random_seed': None, '_save_summary_steps': 100, '_save_checkpoints_steps': None, '_save_checkpoints_secs': 600, '_session_config': allow_soft_placement: true\n",
      "graph_options {\n",
      "  rewrite_options {\n",
      "    meta_optimizer_iterations: ONE\n",
      "  }\n",
      "}\n",
      ", '_keep_checkpoint_max': 5, '_keep_checkpoint_every_n_hours': 10000, '_log_step_count_steps': 100, '_train_distribute': None, '_device_fn': None, '_protocol': None, '_eval_distribute': None, '_experimental_distribute': None, '_experimental_max_worker_delay_secs': None, '_service': None, '_cluster_spec': <tensorflow.python.training.server_lib.ClusterSpec object at 0x12cda2908>, '_task_type': 'worker', '_task_id': 0, '_global_id_in_cluster': 0, '_master': '', '_evaluation_master': '', '_is_chief': True, '_num_ps_replicas': 0, '_num_worker_replicas': 1}\n"
     ]
    }
   ],
   "source": [
    "# Create the Estimator\n",
    "mnist_classifier = tf.estimator.Estimator(\n",
    "    model_fn=cnn_model_fn, model_dir=\"/tmp/mnist_convnet_model\")"
   ]
  },
  {
   "cell_type": "code",
   "execution_count": 23,
   "metadata": {},
   "outputs": [],
   "source": [
    "# Set up logging for predictions\n",
    "tensors_to_log = {\"probabilities\": \"softmax_tensor\"}\n",
    "\n",
    "logging_hook = tf.train.LoggingTensorHook(\n",
    "    tensors=tensors_to_log, every_n_iter=50)"
   ]
  },
  {
   "cell_type": "code",
   "execution_count": 24,
   "metadata": {},
   "outputs": [
    {
     "name": "stderr",
     "output_type": "stream",
     "text": [
      "W0719 23:49:14.719864 4501730752 deprecation.py:323] From /Users/an/Projects/otus/venv3/lib/python3.6/site-packages/tensorflow/python/training/training_util.py:236: Variable.initialized_value (from tensorflow.python.ops.variables) is deprecated and will be removed in a future version.\n",
      "Instructions for updating:\n",
      "Use Variable.read_value. Variables in 2.X are initialized automatically both in eager and graph (inside tf.defun) contexts.\n",
      "W0719 23:49:14.774688 4501730752 deprecation.py:323] From /Users/an/Projects/otus/venv3/lib/python3.6/site-packages/tensorflow_estimator/python/estimator/inputs/queues/feeding_queue_runner.py:62: QueueRunner.__init__ (from tensorflow.python.training.queue_runner_impl) is deprecated and will be removed in a future version.\n",
      "Instructions for updating:\n",
      "To construct input pipelines, use the `tf.data` module.\n",
      "W0719 23:49:14.778332 4501730752 deprecation.py:323] From /Users/an/Projects/otus/venv3/lib/python3.6/site-packages/tensorflow_estimator/python/estimator/inputs/queues/feeding_functions.py:500: add_queue_runner (from tensorflow.python.training.queue_runner_impl) is deprecated and will be removed in a future version.\n",
      "Instructions for updating:\n",
      "To construct input pipelines, use the `tf.data` module.\n",
      "I0719 23:49:14.829886 4501730752 estimator.py:1145] Calling model_fn.\n",
      "W0719 23:49:14.835176 4501730752 deprecation.py:323] From <ipython-input-20-16a10fb7f348>:12: conv2d (from tensorflow.python.layers.convolutional) is deprecated and will be removed in a future version.\n",
      "Instructions for updating:\n",
      "Use `tf.keras.layers.Conv2D` instead.\n",
      "W0719 23:49:14.858402 4501730752 deprecation.py:506] From /Users/an/Projects/otus/venv3/lib/python3.6/site-packages/tensorflow/python/ops/init_ops.py:1251: calling VarianceScaling.__init__ (from tensorflow.python.ops.init_ops) with dtype is deprecated and will be removed in a future version.\n",
      "Instructions for updating:\n",
      "Call initializer instance with the dtype argument instead of passing it to the constructor\n",
      "W0719 23:49:15.250200 4501730752 deprecation.py:323] From <ipython-input-20-16a10fb7f348>:15: max_pooling2d (from tensorflow.python.layers.pooling) is deprecated and will be removed in a future version.\n",
      "Instructions for updating:\n",
      "Use keras.layers.MaxPooling2D instead.\n",
      "W0719 23:49:15.807882 4501730752 deprecation.py:323] From <ipython-input-20-16a10fb7f348>:28: dense (from tensorflow.python.layers.core) is deprecated and will be removed in a future version.\n",
      "Instructions for updating:\n",
      "Use keras.layers.dense instead.\n",
      "W0719 23:49:16.529845 4501730752 deprecation.py:323] From <ipython-input-20-16a10fb7f348>:30: dropout (from tensorflow.python.layers.core) is deprecated and will be removed in a future version.\n",
      "Instructions for updating:\n",
      "Use keras.layers.dropout instead.\n",
      "I0719 23:49:16.866611 4501730752 estimator.py:1147] Done calling model_fn.\n",
      "I0719 23:49:16.872688 4501730752 basic_session_run_hooks.py:541] Create CheckpointSaverHook.\n",
      "I0719 23:49:17.247706 4501730752 monitored_session.py:240] Graph was finalized.\n",
      "I0719 23:49:17.358114 4501730752 session_manager.py:500] Running local_init_op.\n",
      "I0719 23:49:17.379073 4501730752 session_manager.py:502] Done running local_init_op.\n",
      "W0719 23:49:17.415717 4501730752 deprecation.py:323] From /Users/an/Projects/otus/venv3/lib/python3.6/site-packages/tensorflow/python/training/monitored_session.py:875: start_queue_runners (from tensorflow.python.training.queue_runner_impl) is deprecated and will be removed in a future version.\n",
      "Instructions for updating:\n",
      "To construct input pipelines, use the `tf.data` module.\n",
      "I0719 23:49:17.692572 4501730752 basic_session_run_hooks.py:606] Saving checkpoints for 0 into /tmp/mnist_convnet_model/model.ckpt.\n",
      "I0719 23:49:18.370732 4501730752 basic_session_run_hooks.py:262] probabilities = [[0.08625665 0.09589901 0.10591694 0.09760307 0.09821632 0.12832093\n",
      "  0.10410815 0.09892739 0.10432763 0.08042389]\n",
      " [0.09737447 0.10186086 0.09651807 0.09108317 0.09678192 0.11885917\n",
      "  0.10121942 0.09732196 0.10741202 0.09156894]\n",
      " [0.08556756 0.09666269 0.10437763 0.10335232 0.08000838 0.12028916\n",
      "  0.11087154 0.10183049 0.11174125 0.08529894]\n",
      " [0.10183467 0.09817685 0.11104799 0.08908378 0.09899754 0.12103312\n",
      "  0.09188581 0.09574906 0.10025648 0.09193469]\n",
      " [0.10646693 0.09617981 0.10874415 0.08959662 0.09932036 0.10055895\n",
      "  0.10446596 0.10289095 0.11074463 0.0810316 ]\n",
      " [0.10209247 0.10982344 0.10572289 0.0897551  0.0921703  0.09779169\n",
      "  0.1069349  0.09949246 0.10304116 0.09317555]\n",
      " [0.0987094  0.09492065 0.10035565 0.10319072 0.09768283 0.10328636\n",
      "  0.10391098 0.09874493 0.11715341 0.08204503]\n",
      " [0.09191644 0.11208744 0.10684331 0.10542694 0.09016184 0.11116146\n",
      "  0.1079725  0.09645921 0.09914735 0.07882355]\n",
      " [0.08612669 0.09903298 0.10224643 0.09708543 0.10466097 0.11441295\n",
      "  0.10401187 0.10158824 0.09817122 0.09266324]\n",
      " [0.09818826 0.10701962 0.09072868 0.10079014 0.08640172 0.11013723\n",
      "  0.10806623 0.10665254 0.11092942 0.08108615]\n",
      " [0.09991888 0.11176296 0.09727901 0.08951823 0.09386186 0.10597685\n",
      "  0.10494101 0.10278299 0.10864068 0.08531759]\n",
      " [0.08777889 0.09726287 0.11367664 0.09483769 0.10586076 0.10369836\n",
      "  0.09785591 0.09975419 0.11481658 0.08445807]\n",
      " [0.09390161 0.10295255 0.10269066 0.10308404 0.09454857 0.12403163\n",
      "  0.09582704 0.09299802 0.10196161 0.08800426]\n",
      " [0.10340645 0.1072161  0.09720894 0.09607932 0.09762708 0.10743716\n",
      "  0.10307235 0.09838306 0.10688262 0.0826868 ]\n",
      " [0.08711522 0.11604368 0.1129297  0.09920877 0.10521678 0.1033105\n",
      "  0.10055581 0.09256236 0.09897471 0.08408251]\n",
      " [0.10138679 0.10572127 0.09678184 0.101977   0.09848177 0.10842795\n",
      "  0.09337413 0.10027757 0.10433985 0.08923181]\n",
      " [0.09462669 0.10619944 0.1087906  0.10543874 0.09352277 0.10046212\n",
      "  0.09967581 0.09785299 0.10808975 0.08534111]\n",
      " [0.09824443 0.10437869 0.09541821 0.09896936 0.09971464 0.10931099\n",
      "  0.09788437 0.10339747 0.10432407 0.08835776]\n",
      " [0.09827767 0.1042207  0.10802353 0.09447335 0.10020654 0.10876242\n",
      "  0.11060633 0.09937461 0.09718189 0.07887293]\n",
      " [0.09451679 0.09589256 0.11451357 0.09625267 0.09795427 0.11579441\n",
      "  0.09885339 0.09596795 0.10388326 0.08637109]\n",
      " [0.10579076 0.10746609 0.10601889 0.09937773 0.10102864 0.10372404\n",
      "  0.09155267 0.09477027 0.10174151 0.08852942]\n",
      " [0.11237948 0.10733841 0.09605324 0.08626729 0.10140385 0.10959695\n",
      "  0.09298868 0.10085788 0.11388689 0.0792274 ]\n",
      " [0.09555097 0.09165679 0.10753501 0.0961215  0.10580089 0.11058911\n",
      "  0.11207349 0.10661075 0.09253541 0.08152609]\n",
      " [0.09533174 0.09440122 0.10540344 0.08953744 0.09950014 0.11503632\n",
      "  0.10890314 0.09364248 0.10862736 0.08961667]\n",
      " [0.10174922 0.10286112 0.0971373  0.09759731 0.09511189 0.11199272\n",
      "  0.11007591 0.09999881 0.10008339 0.08339234]\n",
      " [0.09380587 0.09750267 0.12000048 0.09147207 0.0884157  0.11420406\n",
      "  0.09467262 0.09934518 0.10355894 0.09702232]\n",
      " [0.0973155  0.10894588 0.11344845 0.09572408 0.08593492 0.11362054\n",
      "  0.10592994 0.09404947 0.10285167 0.08217964]\n",
      " [0.10324001 0.09637535 0.11398426 0.09116539 0.0952694  0.11902269\n",
      "  0.1015161  0.10365406 0.09624004 0.07953276]\n",
      " [0.0928474  0.08923084 0.11483882 0.10079768 0.08906237 0.10579323\n",
      "  0.11558231 0.10719299 0.09648498 0.08816943]\n",
      " [0.1009167  0.10074267 0.10600363 0.10081495 0.10612412 0.09855172\n",
      "  0.101621   0.09019043 0.10536356 0.08967123]\n",
      " [0.09323218 0.10466151 0.10806678 0.09513975 0.09522804 0.10838919\n",
      "  0.09605661 0.10640357 0.10724116 0.08558119]\n",
      " [0.09232359 0.10315567 0.10748727 0.10668277 0.08538844 0.11757339\n",
      "  0.10653567 0.09601092 0.10680587 0.07803646]\n",
      " [0.09753177 0.10550866 0.09687232 0.09691008 0.08696142 0.11102944\n",
      "  0.11403096 0.09722363 0.10757279 0.08635897]\n",
      " [0.0919539  0.11075035 0.1069527  0.09998544 0.10232177 0.10109568\n",
      "  0.10026106 0.09197475 0.11249029 0.08221404]\n",
      " [0.09808854 0.10147776 0.10100575 0.09178704 0.0982854  0.105993\n",
      "  0.10505928 0.09595302 0.10953956 0.09281067]\n",
      " [0.09818305 0.104615   0.09840683 0.09881736 0.0948712  0.1108063\n",
      "  0.10171496 0.10790007 0.1064223  0.07826289]\n",
      " [0.08974595 0.10573031 0.10855836 0.10956667 0.09328951 0.11211412\n",
      "  0.10368659 0.09305766 0.09522679 0.08902401]\n",
      " [0.09364858 0.09398908 0.10015655 0.09522147 0.10214647 0.11595137\n",
      "  0.09352569 0.10690849 0.12211453 0.07633781]\n",
      " [0.09311262 0.09962115 0.10508656 0.09633013 0.0938369  0.11460724\n",
      "  0.10680604 0.10091716 0.10215496 0.08752719]\n",
      " [0.09170379 0.09682218 0.11075284 0.09620809 0.09051543 0.11513903\n",
      "  0.10714817 0.10762308 0.09996082 0.08412655]\n",
      " [0.09062189 0.10524465 0.10875709 0.10487617 0.10272433 0.10594971\n",
      "  0.09622152 0.09842075 0.09768099 0.08950294]\n",
      " [0.09874544 0.10241762 0.09837947 0.10160142 0.10349782 0.11048803\n",
      "  0.09812463 0.0957309  0.09718894 0.09382575]\n",
      " [0.10264089 0.11054606 0.0959313  0.09238389 0.10534147 0.11226634\n",
      "  0.1038487  0.09205557 0.10121237 0.08377338]\n",
      " [0.09495112 0.10050318 0.10429673 0.09111967 0.09837496 0.11010946\n",
      "  0.10403087 0.09699909 0.10358202 0.09603282]\n",
      " [0.09007408 0.09773506 0.10082962 0.10618297 0.0978831  0.10917652\n",
      "  0.11198033 0.10441968 0.09567415 0.08604446]\n",
      " [0.10149865 0.1063584  0.10946806 0.09384023 0.09942354 0.11485376\n",
      "  0.09886044 0.10117709 0.09172741 0.08279239]\n",
      " [0.10322841 0.10383233 0.10243066 0.10011685 0.09269039 0.10950802\n",
      "  0.10960666 0.09549413 0.09905775 0.08403484]\n",
      " [0.09597424 0.09795752 0.09837895 0.09394769 0.10838345 0.11351489\n",
      "  0.10740738 0.1022228  0.09921204 0.08300105]\n",
      " [0.09903585 0.104745   0.09975064 0.1010239  0.09980831 0.11334485\n",
      "  0.09274288 0.10112216 0.09973512 0.08869126]\n",
      " [0.09116964 0.11700256 0.09906631 0.10161487 0.09837042 0.11104248\n",
      "  0.09881083 0.09513169 0.09920593 0.08858533]\n",
      " [0.08875316 0.09297726 0.11260028 0.09819113 0.09325062 0.10865916\n",
      "  0.11949898 0.10251442 0.09518501 0.08836997]\n",
      " [0.09664683 0.09657902 0.1003442  0.1022613  0.09301835 0.11562467\n",
      "  0.11220445 0.09668739 0.09882358 0.0878102 ]\n",
      " [0.09653914 0.10879951 0.10530088 0.09665192 0.08006849 0.11335745\n",
      "  0.10640469 0.09674978 0.11717001 0.07895812]\n",
      " [0.08959151 0.09655226 0.10204917 0.10132258 0.10047703 0.12841558\n",
      "  0.09534014 0.10545538 0.10539008 0.07540626]\n",
      " [0.10759372 0.1071528  0.09313878 0.0904673  0.10392088 0.11062303\n",
      "  0.09585498 0.09321298 0.10306887 0.09496678]\n",
      " [0.09872773 0.09870578 0.11556845 0.09763902 0.09861785 0.10870175\n",
      "  0.09866033 0.09712835 0.09767184 0.08857895]\n",
      " [0.08604816 0.09498727 0.11261123 0.08972265 0.10218198 0.12844996\n",
      "  0.09926225 0.10797869 0.10277925 0.07597853]\n",
      " [0.10453691 0.10668479 0.09549037 0.09845106 0.10276446 0.10696199\n",
      "  0.09532119 0.09892674 0.09502808 0.09583439]\n",
      " [0.10572139 0.11021677 0.09439605 0.10426819 0.09233154 0.11218049\n",
      "  0.1003464  0.10298763 0.09750062 0.08005095]\n",
      " [0.10173988 0.10012095 0.11384356 0.08498495 0.10838157 0.1045847\n",
      "  0.09604547 0.1094003  0.10079321 0.08010539]\n",
      " [0.09189001 0.10993011 0.09876832 0.09904841 0.08910303 0.11109512\n",
      "  0.10276916 0.10408023 0.10409731 0.08921827]\n",
      " [0.10554355 0.10236928 0.10678333 0.0903932  0.09170821 0.107043\n",
      "  0.10998977 0.09230541 0.10195706 0.09190727]\n",
      " [0.09624946 0.10925429 0.10490783 0.09551856 0.09423552 0.111845\n",
      "  0.100835   0.10523123 0.09424268 0.08768042]\n",
      " [0.10491124 0.10165641 0.10130505 0.09890737 0.10721565 0.10695933\n",
      "  0.09830221 0.09663823 0.09717449 0.08693007]\n",
      " [0.11012577 0.09733463 0.10792003 0.09304222 0.09761948 0.09881719\n",
      "  0.10457787 0.09817211 0.10549656 0.08689421]\n",
      " [0.09314594 0.1057819  0.10360478 0.09021492 0.10405885 0.11724506\n",
      "  0.09700779 0.1011216  0.10364052 0.08417859]\n",
      " [0.09486789 0.10232551 0.10039676 0.09171577 0.09865214 0.11109503\n",
      "  0.10040466 0.10986613 0.11138146 0.07929457]\n",
      " [0.08831929 0.09468748 0.10597426 0.10148689 0.09708828 0.10880812\n",
      "  0.11180983 0.09984538 0.10957117 0.08240932]\n",
      " [0.09584481 0.1051461  0.12057242 0.09223601 0.10159738 0.10059508\n",
      "  0.11041109 0.09326572 0.09225486 0.08807652]\n",
      " [0.09796891 0.10798576 0.0970557  0.09587064 0.09570394 0.11659551\n",
      "  0.09846378 0.09883105 0.10336422 0.08816045]\n",
      " [0.08957287 0.09962741 0.10974532 0.10156679 0.09726233 0.10306256\n",
      "  0.1090659  0.09846048 0.10092202 0.09071434]\n",
      " [0.09112457 0.09882809 0.11263403 0.09498792 0.09649608 0.10921494\n",
      "  0.10789426 0.09784602 0.10373826 0.08723578]\n",
      " [0.10552268 0.11193535 0.10159053 0.09870467 0.08798409 0.11488809\n",
      "  0.1057244  0.09112163 0.09643024 0.08609833]\n",
      " [0.09306731 0.10449349 0.10369954 0.09400622 0.09305909 0.114298\n",
      "  0.10209981 0.10178248 0.11439153 0.07910251]\n",
      " [0.09911346 0.1060089  0.1017757  0.09626698 0.10009016 0.1099757\n",
      "  0.09590665 0.09874285 0.11874057 0.07337901]\n",
      " [0.09343338 0.11480627 0.10856029 0.10327071 0.08909862 0.10955811\n",
      "  0.09453288 0.09397238 0.10885882 0.0839085 ]\n",
      " [0.10618804 0.11475655 0.09716485 0.10124248 0.09038262 0.1089863\n",
      "  0.10369912 0.10098699 0.08785164 0.08874135]\n",
      " [0.09749099 0.09932698 0.10101284 0.0954536  0.10393464 0.10988062\n",
      "  0.10899357 0.10762791 0.09834024 0.07793867]\n",
      " [0.09503017 0.09820583 0.10501739 0.0902923  0.09923664 0.12156837\n",
      "  0.09994325 0.09845699 0.09842181 0.09382718]\n",
      " [0.09350954 0.10345504 0.10355248 0.09724093 0.09431301 0.10003497\n",
      "  0.11615334 0.10057872 0.10579722 0.08536476]\n",
      " [0.09378095 0.10338587 0.11058811 0.09466215 0.10066287 0.10134549\n",
      "  0.09811703 0.10345881 0.10820873 0.08579001]\n",
      " [0.09625172 0.09820648 0.10099516 0.0962032  0.1033455  0.10747126\n",
      "  0.10501426 0.09272759 0.10510613 0.09467867]\n",
      " [0.10158609 0.11147556 0.09994245 0.10139374 0.09126736 0.11331557\n",
      "  0.09968923 0.10222269 0.10546878 0.07363848]\n",
      " [0.10441338 0.10117336 0.09989881 0.10931972 0.10091265 0.10966022\n",
      "  0.09771781 0.09607811 0.10039254 0.08043347]\n",
      " [0.09695022 0.11231505 0.09847561 0.09796083 0.09955841 0.10908467\n",
      "  0.09908932 0.09598639 0.1028275  0.08775208]\n",
      " [0.1004459  0.10372456 0.10229782 0.09757756 0.08831145 0.10918397\n",
      "  0.0907025  0.11060239 0.11054491 0.08660897]\n",
      " [0.09455906 0.09691994 0.11046196 0.09294542 0.1016738  0.12442704\n",
      "  0.10549783 0.09641236 0.09997641 0.0771262 ]\n",
      " [0.10007083 0.10971349 0.10618047 0.10127217 0.09436355 0.10518003\n",
      "  0.10485176 0.10120464 0.09901472 0.07814837]\n",
      " [0.08619691 0.11317135 0.08878637 0.10604692 0.08718842 0.12912816\n",
      "  0.10082646 0.10435922 0.10067045 0.08362576]\n",
      " [0.08418727 0.10703328 0.10196654 0.0896816  0.08934993 0.12161261\n",
      "  0.11483381 0.10464598 0.10380782 0.08288126]\n",
      " [0.10235083 0.10573001 0.10105909 0.09793486 0.09907723 0.10153475\n",
      "  0.10497022 0.1017845  0.10544002 0.08011855]\n",
      " [0.10920771 0.10015433 0.09908719 0.10064941 0.10010038 0.10371579\n",
      "  0.09962663 0.10151849 0.09603168 0.08990843]\n",
      " [0.10192506 0.09319685 0.12042652 0.09625971 0.08747342 0.11509826\n",
      "  0.0953411  0.09763315 0.10708225 0.08556371]\n",
      " [0.09766616 0.11086565 0.10039777 0.09127806 0.10427187 0.11034288\n",
      "  0.09984867 0.09018769 0.10780288 0.0873384 ]\n",
      " [0.09639334 0.10546472 0.11084032 0.10492536 0.1052585  0.10154099\n",
      "  0.09925713 0.09377857 0.09776962 0.08477145]\n",
      " [0.09734226 0.09328446 0.10157911 0.08449056 0.08726373 0.11012692\n",
      "  0.11008689 0.10032368 0.12677239 0.08872996]\n",
      " [0.10475849 0.09386293 0.10736691 0.09297335 0.09671684 0.10309821\n",
      "  0.10196368 0.10677648 0.09549053 0.09699257]\n",
      " [0.10544972 0.11876737 0.09858793 0.09504601 0.11178286 0.09799348\n",
      "  0.10247189 0.09226504 0.10089584 0.07673988]\n",
      " [0.09677511 0.1017604  0.10721759 0.09771366 0.09851301 0.11386549\n",
      "  0.100283   0.09489223 0.11058304 0.07839642]\n",
      " [0.10887815 0.10748518 0.09931429 0.09444043 0.09818852 0.10914963\n",
      "  0.10114627 0.09468987 0.107944   0.07876364]]\n"
     ]
    },
    {
     "name": "stderr",
     "output_type": "stream",
     "text": [
      "I0719 23:49:18.375169 4501730752 basic_session_run_hooks.py:262] loss = 2.3098614, step = 1\n",
      "I0719 23:49:18.389902 4501730752 basic_session_run_hooks.py:606] Saving checkpoints for 1 into /tmp/mnist_convnet_model/model.ckpt.\n",
      "I0719 23:49:18.748517 4501730752 estimator.py:368] Loss for final step: 2.3098614.\n"
     ]
    },
    {
     "data": {
      "text/plain": [
       "<tensorflow_estimator.python.estimator.estimator.Estimator at 0x12cda2d68>"
      ]
     },
     "execution_count": 24,
     "metadata": {},
     "output_type": "execute_result"
    }
   ],
   "source": [
    "# Train the model\n",
    "train_input_fn = tf.estimator.inputs.numpy_input_fn(\n",
    "    x={\"x\": train_data},\n",
    "    y=train_labels,\n",
    "    batch_size=100,\n",
    "    num_epochs=None,\n",
    "    shuffle=True)\n",
    "\n",
    "# train one step and display the probabilties\n",
    "mnist_classifier.train(\n",
    "    input_fn=train_input_fn,\n",
    "    steps=1,\n",
    "    hooks=[logging_hook])"
   ]
  },
  {
   "cell_type": "code",
   "execution_count": 25,
   "metadata": {},
   "outputs": [
    {
     "name": "stderr",
     "output_type": "stream",
     "text": [
      "I0719 23:53:20.791522 4501730752 estimator.py:1145] Calling model_fn.\n",
      "I0719 23:53:21.161195 4501730752 estimator.py:1147] Done calling model_fn.\n",
      "I0719 23:53:21.480247 4501730752 basic_session_run_hooks.py:541] Create CheckpointSaverHook.\n",
      "I0719 23:53:21.674836 4501730752 monitored_session.py:240] Graph was finalized.\n",
      "W0719 23:53:21.695182 4501730752 deprecation.py:323] From /Users/an/Projects/otus/venv3/lib/python3.6/site-packages/tensorflow/python/training/saver.py:1276: checkpoint_exists (from tensorflow.python.training.checkpoint_management) is deprecated and will be removed in a future version.\n",
      "Instructions for updating:\n",
      "Use standard file APIs to check for files with this prefix.\n",
      "I0719 23:53:21.699542 4501730752 saver.py:1280] Restoring parameters from /tmp/mnist_convnet_model/model.ckpt-1\n",
      "W0719 23:53:21.777482 4501730752 deprecation.py:323] From /Users/an/Projects/otus/venv3/lib/python3.6/site-packages/tensorflow/python/training/saver.py:1066: get_checkpoint_mtimes (from tensorflow.python.training.checkpoint_management) is deprecated and will be removed in a future version.\n",
      "Instructions for updating:\n",
      "Use standard file utilities to get mtimes.\n",
      "I0719 23:53:21.808628 4501730752 session_manager.py:500] Running local_init_op.\n",
      "I0719 23:53:21.823148 4501730752 session_manager.py:502] Done running local_init_op.\n",
      "I0719 23:53:22.112033 4501730752 basic_session_run_hooks.py:606] Saving checkpoints for 1 into /tmp/mnist_convnet_model/model.ckpt.\n",
      "I0719 23:53:22.754369 4501730752 basic_session_run_hooks.py:262] loss = 2.3072147, step = 2\n",
      "I0719 23:53:47.210273 4501730752 basic_session_run_hooks.py:692] global_step/sec: 4.0889\n",
      "I0719 23:53:47.212687 4501730752 basic_session_run_hooks.py:260] loss = 2.2861192, step = 102 (24.458 sec)\n",
      "I0719 23:54:09.908517 4501730752 basic_session_run_hooks.py:692] global_step/sec: 4.40563\n",
      "I0719 23:54:09.910944 4501730752 basic_session_run_hooks.py:260] loss = 2.2545323, step = 202 (22.698 sec)\n",
      "I0719 23:54:31.654057 4501730752 basic_session_run_hooks.py:692] global_step/sec: 4.59864\n",
      "I0719 23:54:31.656446 4501730752 basic_session_run_hooks.py:260] loss = 2.2353098, step = 302 (21.746 sec)\n",
      "I0719 23:54:54.015728 4501730752 basic_session_run_hooks.py:692] global_step/sec: 4.47194\n",
      "I0719 23:54:54.018211 4501730752 basic_session_run_hooks.py:260] loss = 2.2407088, step = 402 (22.362 sec)\n",
      "I0719 23:55:15.338196 4501730752 basic_session_run_hooks.py:692] global_step/sec: 4.68989\n",
      "I0719 23:55:15.340759 4501730752 basic_session_run_hooks.py:260] loss = 2.2029028, step = 502 (21.323 sec)\n",
      "I0719 23:55:37.588927 4501730752 basic_session_run_hooks.py:692] global_step/sec: 4.49422\n",
      "I0719 23:55:37.592429 4501730752 basic_session_run_hooks.py:260] loss = 2.1706755, step = 602 (22.252 sec)\n",
      "I0719 23:56:04.169380 4501730752 basic_session_run_hooks.py:692] global_step/sec: 3.76224\n",
      "I0719 23:56:04.179074 4501730752 basic_session_run_hooks.py:260] loss = 2.1110165, step = 702 (26.587 sec)\n",
      "I0719 23:56:28.528258 4501730752 basic_session_run_hooks.py:692] global_step/sec: 4.10518\n",
      "I0719 23:56:28.530355 4501730752 basic_session_run_hooks.py:260] loss = 2.071521, step = 802 (24.351 sec)\n",
      "I0719 23:56:55.055124 4501730752 basic_session_run_hooks.py:692] global_step/sec: 3.76976\n",
      "I0719 23:56:55.057318 4501730752 basic_session_run_hooks.py:260] loss = 1.9807788, step = 902 (26.527 sec)\n",
      "I0719 23:57:20.654448 4501730752 basic_session_run_hooks.py:606] Saving checkpoints for 1001 into /tmp/mnist_convnet_model/model.ckpt.\n",
      "I0719 23:57:20.837040 4501730752 estimator.py:368] Loss for final step: 1.8922281.\n"
     ]
    },
    {
     "data": {
      "text/plain": [
       "<tensorflow_estimator.python.estimator.estimator.Estimator at 0x12cda2d68>"
      ]
     },
     "execution_count": 25,
     "metadata": {},
     "output_type": "execute_result"
    }
   ],
   "source": [
    "mnist_classifier.train(input_fn=train_input_fn, steps=1000)"
   ]
  },
  {
   "cell_type": "code",
   "execution_count": 26,
   "metadata": {},
   "outputs": [
    {
     "name": "stderr",
     "output_type": "stream",
     "text": [
      "I0719 23:59:04.225167 4501730752 estimator.py:1145] Calling model_fn.\n",
      "I0719 23:59:04.440371 4501730752 estimator.py:1147] Done calling model_fn.\n",
      "I0719 23:59:04.498287 4501730752 evaluation.py:255] Starting evaluation at 2019-07-19T23:59:04Z\n",
      "I0719 23:59:04.662469 4501730752 monitored_session.py:240] Graph was finalized.\n",
      "I0719 23:59:04.665235 4501730752 saver.py:1280] Restoring parameters from /tmp/mnist_convnet_model/model.ckpt-1001\n",
      "I0719 23:59:04.755141 4501730752 session_manager.py:500] Running local_init_op.\n",
      "I0719 23:59:04.779677 4501730752 session_manager.py:502] Done running local_init_op.\n",
      "I0719 23:59:10.778207 4501730752 evaluation.py:275] Finished evaluation at 2019-07-19-23:59:10\n",
      "I0719 23:59:10.780288 4501730752 estimator.py:2039] Saving dict for global step 1001: accuracy = 0.7006, global_step = 1001, loss = 1.8802793\n",
      "I0719 23:59:10.884468 4501730752 estimator.py:2099] Saving 'checkpoint_path' summary for global step 1001: /tmp/mnist_convnet_model/model.ckpt-1001\n"
     ]
    },
    {
     "name": "stdout",
     "output_type": "stream",
     "text": [
      "{'accuracy': 0.7006, 'loss': 1.8802793, 'global_step': 1001}\n"
     ]
    }
   ],
   "source": [
    "eval_input_fn = tf.estimator.inputs.numpy_input_fn(\n",
    "    x={\"x\": eval_data},\n",
    "    y=eval_labels,\n",
    "    num_epochs=1,\n",
    "    shuffle=False)\n",
    "\n",
    "eval_results = mnist_classifier.evaluate(input_fn=eval_input_fn)\n",
    "print(eval_results)"
   ]
  },
  {
   "cell_type": "markdown",
   "metadata": {},
   "source": [
    "### Pytorch"
   ]
  },
  {
   "cell_type": "code",
   "execution_count": 2,
   "metadata": {},
   "outputs": [
    {
     "name": "stdout",
     "output_type": "stream",
     "text": [
      "Populating the interactive namespace from numpy and matplotlib\n"
     ]
    }
   ],
   "source": [
    "%pylab inline\n",
    "import numpy as np\n",
    "import torch\n",
    "import torch.nn as nn\n",
    "import torch.nn.functional as F\n",
    "import torch.utils.data.dataloader as dataloader\n",
    "import torch.optim as optim\n",
    "\n",
    "from torch.utils.data import TensorDataset\n",
    "from torch.autograd import Variable\n",
    "from torchvision import transforms\n",
    "from torchvision.datasets import MNIST"
   ]
  },
  {
   "cell_type": "code",
   "execution_count": 3,
   "metadata": {},
   "outputs": [
    {
     "name": "stderr",
     "output_type": "stream",
     "text": [
      "\r",
      "0it [00:00, ?it/s]"
     ]
    },
    {
     "name": "stdout",
     "output_type": "stream",
     "text": [
      "Downloading http://yann.lecun.com/exdb/mnist/train-images-idx3-ubyte.gz to ./data/MNIST/raw/train-images-idx3-ubyte.gz\n"
     ]
    },
    {
     "name": "stderr",
     "output_type": "stream",
     "text": [
      "9920512it [00:07, 1356182.16it/s]                             \n"
     ]
    },
    {
     "name": "stdout",
     "output_type": "stream",
     "text": [
      "Extracting ./data/MNIST/raw/train-images-idx3-ubyte.gz\n"
     ]
    },
    {
     "name": "stderr",
     "output_type": "stream",
     "text": [
      "\r",
      "0it [00:00, ?it/s]"
     ]
    },
    {
     "name": "stdout",
     "output_type": "stream",
     "text": [
      "Downloading http://yann.lecun.com/exdb/mnist/train-labels-idx1-ubyte.gz to ./data/MNIST/raw/train-labels-idx1-ubyte.gz\n"
     ]
    },
    {
     "name": "stderr",
     "output_type": "stream",
     "text": [
      "32768it [00:00, 84476.86it/s]                            \n",
      "0it [00:00, ?it/s]"
     ]
    },
    {
     "name": "stdout",
     "output_type": "stream",
     "text": [
      "Extracting ./data/MNIST/raw/train-labels-idx1-ubyte.gz\n",
      "Downloading http://yann.lecun.com/exdb/mnist/t10k-images-idx3-ubyte.gz to ./data/MNIST/raw/t10k-images-idx3-ubyte.gz\n"
     ]
    },
    {
     "name": "stderr",
     "output_type": "stream",
     "text": [
      "1654784it [00:03, 539637.01it/s]                             \n",
      "0it [00:00, ?it/s]"
     ]
    },
    {
     "name": "stdout",
     "output_type": "stream",
     "text": [
      "Extracting ./data/MNIST/raw/t10k-images-idx3-ubyte.gz\n",
      "Downloading http://yann.lecun.com/exdb/mnist/t10k-labels-idx1-ubyte.gz to ./data/MNIST/raw/t10k-labels-idx1-ubyte.gz\n"
     ]
    },
    {
     "name": "stderr",
     "output_type": "stream",
     "text": [
      "8192it [00:00, 30964.59it/s]            \n"
     ]
    },
    {
     "name": "stdout",
     "output_type": "stream",
     "text": [
      "Extracting ./data/MNIST/raw/t10k-labels-idx1-ubyte.gz\n",
      "Processing...\n",
      "Done!\n"
     ]
    }
   ],
   "source": [
    "train = MNIST('./data', train=True, download=True, transform=transforms.Compose([\n",
    "    transforms.ToTensor(), # ToTensor does min-max normalization. \n",
    "]), )\n",
    "\n",
    "test = MNIST('./data', train=False, download=True, transform=transforms.Compose([\n",
    "    transforms.ToTensor(), # ToTensor does min-max normalization. \n",
    "]), )\n",
    "\n",
    "# Create DataLoader\n",
    "dataloader_args = dict(shuffle=True, batch_size=64,num_workers=1, pin_memory=True)\n",
    "train_loader = dataloader.DataLoader(train, **dataloader_args)\n",
    "test_loader = dataloader.DataLoader(test, **dataloader_args)"
   ]
  },
  {
   "cell_type": "code",
   "execution_count": 4,
   "metadata": {},
   "outputs": [
    {
     "name": "stderr",
     "output_type": "stream",
     "text": [
      "/Users/an/Projects/otus/venv3/lib/python3.6/site-packages/torchvision/datasets/mnist.py:53: UserWarning: train_data has been renamed data\n",
      "  warnings.warn(\"train_data has been renamed data\")\n"
     ]
    },
    {
     "name": "stdout",
     "output_type": "stream",
     "text": [
      "[Train]\n",
      " - Numpy Shape: (60000, 28, 28)\n",
      " - Tensor Shape: torch.Size([60000, 28, 28])\n",
      " - Transformed Shape: torch.Size([28, 60000, 28])\n",
      " - min: tensor(0.)\n",
      " - max: tensor(1.)\n",
      " - mean: tensor(0.1305)\n",
      " - std: tensor(0.3081)\n",
      " - var: tensor(0.0949)\n"
     ]
    }
   ],
   "source": [
    "train_data = train.train_data\n",
    "train_data = train.transform(train_data.numpy())\n",
    "\n",
    "print('[Train]')\n",
    "print(' - Numpy Shape:', train.train_data.cpu().numpy().shape)\n",
    "print(' - Tensor Shape:', train.train_data.size())\n",
    "print(' - Transformed Shape:', train_data.size())\n",
    "print(' - min:', torch.min(train_data))\n",
    "print(' - max:', torch.max(train_data))\n",
    "print(' - mean:', torch.mean(train_data))\n",
    "print(' - std:', torch.std(train_data))\n",
    "print(' - var:', torch.var(train_data))"
   ]
  },
  {
   "cell_type": "code",
   "execution_count": 5,
   "metadata": {},
   "outputs": [],
   "source": [
    "class Model(nn.Module):\n",
    "    def __init__(self):\n",
    "        super(Model, self).__init__()\n",
    "        \n",
    "        self.fc1 = nn.Linear(784, 548)\n",
    "        self.bc1 = nn.BatchNorm1d(548)\n",
    "        \n",
    "        self.fc2 = nn.Linear(548, 252)\n",
    "        self.bc2 = nn.BatchNorm1d(252)\n",
    "        \n",
    "        self.fc3 = nn.Linear(252, 10)\n",
    "        \n",
    "        \n",
    "    def forward(self, x):\n",
    "        x = x.view((-1, 784))\n",
    "        h = self.fc1(x)\n",
    "        h = self.bc1(h)\n",
    "        h = F.relu(h)\n",
    "        h = F.dropout(h, p=0.5, training=self.training)\n",
    "        \n",
    "        h = self.fc2(h)\n",
    "        h = self.bc2(h)\n",
    "        h = F.relu(h)\n",
    "        h = F.dropout(h, p=0.2, training=self.training)\n",
    "        \n",
    "        h = self.fc3(h)\n",
    "        out = F.log_softmax(h)\n",
    "        return out\n",
    "\n",
    "model = Model()\n",
    "#model.cuda() # CUDA!\n",
    "optimizer = optim.Adam(model.parameters(), lr=0.001)"
   ]
  },
  {
   "cell_type": "code",
   "execution_count": null,
   "metadata": {},
   "outputs": [
    {
     "name": "stderr",
     "output_type": "stream",
     "text": [
      "/Users/an/Projects/otus/venv3/lib/python3.6/site-packages/ipykernel_launcher.py:27: UserWarning: Implicit dimension choice for log_softmax has been deprecated. Change the call to include dim=X as an argument.\n"
     ]
    },
    {
     "name": "stdout",
     "output_type": "stream",
     "text": [
      " Train Epoch: 0 [57664/60000 (96%)]\tLoss: 0.059928\n",
      " Train Epoch: 1 [57664/60000 (96%)]\tLoss: 0.093594\n",
      " Train Epoch: 2 [57664/60000 (96%)]\tLoss: 0.094557\n",
      " Train Epoch: 3 [57664/60000 (96%)]\tLoss: 0.020578\n",
      " Train Epoch: 4 [32064/60000 (53%)]\tLoss: 0.021111"
     ]
    }
   ],
   "source": [
    "# train\n",
    "\n",
    "model.train()\n",
    "\n",
    "losses = []\n",
    "for epoch in range(10):\n",
    "    for batch_idx, (data, target) in enumerate(train_loader):\n",
    "        # Get Samples\n",
    "        data, target = Variable(data), Variable(target)\n",
    "        \n",
    "        # Init\n",
    "        optimizer.zero_grad()\n",
    "\n",
    "        # Predict\n",
    "        y_pred = model(data) \n",
    "\n",
    "        # Calculate loss\n",
    "        loss = F.cross_entropy(y_pred, target)\n",
    "        losses.append(loss.data.item())\n",
    "        # Backpropagation\n",
    "        loss.backward()\n",
    "        optimizer.step()\n",
    "        \n",
    "        \n",
    "        # Display\n",
    "        if batch_idx % 100 == 1:\n",
    "            print('\\r Train Epoch: {} [{}/{} ({:.0f}%)]\\tLoss: {:.6f}'.format(\n",
    "                epoch, \n",
    "                batch_idx * len(data), \n",
    "                len(train_loader.dataset),\n",
    "                100. * batch_idx / len(train_loader), \n",
    "                loss.data.item()), \n",
    "                end='')\n",
    "            \n",
    "    print()"
   ]
  },
  {
   "cell_type": "code",
   "execution_count": 44,
   "metadata": {},
   "outputs": [
    {
     "data": {
      "text/plain": [
       "[<matplotlib.lines.Line2D at 0x14dcf02e8>]"
      ]
     },
     "execution_count": 44,
     "metadata": {},
     "output_type": "execute_result"
    },
    {
     "data": {
      "image/png": "[encoded data removed]",
      "text/plain": [
       "<Figure size 432x288 with 1 Axes>"
      ]
     },
     "metadata": {
      "needs_background": "light"
     },
     "output_type": "display_data"
    }
   ],
   "source": [
    "plot(losses)"
   ]
  },
  {
   "cell_type": "markdown",
   "metadata": {},
   "source": [
    "### Evaluate"
   ]
  },
  {
   "cell_type": "code",
   "execution_count": 1,
   "metadata": {},
   "outputs": [
    {
     "ename": "NameError",
     "evalue": "name 'Variable' is not defined",
     "output_type": "error",
     "traceback": [
      "\u001b[0;31m---------------------------------------------------------------------------\u001b[0m",
      "\u001b[0;31mNameError\u001b[0m                                 Traceback (most recent call last)",
      "\u001b[0;32m<ipython-input-1-0977589e36da>\u001b[0m in \u001b[0;36m<module>\u001b[0;34m\u001b[0m\n\u001b[0;32m----> 1\u001b[0;31m \u001b[0mevaluate_x\u001b[0m \u001b[0;34m=\u001b[0m \u001b[0mVariable\u001b[0m\u001b[0;34m(\u001b[0m\u001b[0mtest_loader\u001b[0m\u001b[0;34m.\u001b[0m\u001b[0mdataset\u001b[0m\u001b[0;34m.\u001b[0m\u001b[0mtest_data\u001b[0m\u001b[0;34m.\u001b[0m\u001b[0mtype_as\u001b[0m\u001b[0;34m(\u001b[0m\u001b[0mtorch\u001b[0m\u001b[0;34m.\u001b[0m\u001b[0mFloatTensor\u001b[0m\u001b[0;34m(\u001b[0m\u001b[0;34m)\u001b[0m\u001b[0;34m)\u001b[0m\u001b[0;34m)\u001b[0m\u001b[0;34m.\u001b[0m\u001b[0mcuda\u001b[0m\u001b[0;34m(\u001b[0m\u001b[0;34m)\u001b[0m\u001b[0;34m\u001b[0m\u001b[0;34m\u001b[0m\u001b[0m\n\u001b[0m\u001b[1;32m      2\u001b[0m \u001b[0mevaluate_y\u001b[0m \u001b[0;34m=\u001b[0m \u001b[0mVariable\u001b[0m\u001b[0;34m(\u001b[0m\u001b[0mtest_loader\u001b[0m\u001b[0;34m.\u001b[0m\u001b[0mdataset\u001b[0m\u001b[0;34m.\u001b[0m\u001b[0mtest_labels\u001b[0m\u001b[0;34m)\u001b[0m\u001b[0;34m.\u001b[0m\u001b[0mcuda\u001b[0m\u001b[0;34m(\u001b[0m\u001b[0;34m)\u001b[0m\u001b[0;34m\u001b[0m\u001b[0;34m\u001b[0m\u001b[0m\n\u001b[1;32m      3\u001b[0m \u001b[0;34m\u001b[0m\u001b[0m\n\u001b[1;32m      4\u001b[0m \u001b[0;34m\u001b[0m\u001b[0m\n\u001b[1;32m      5\u001b[0m \u001b[0moutput\u001b[0m \u001b[0;34m=\u001b[0m \u001b[0mmodel\u001b[0m\u001b[0;34m(\u001b[0m\u001b[0mevaluate_x\u001b[0m\u001b[0;34m)\u001b[0m\u001b[0;34m\u001b[0m\u001b[0;34m\u001b[0m\u001b[0m\n",
      "\u001b[0;31mNameError\u001b[0m: name 'Variable' is not defined"
     ]
    }
   ],
   "source": [
    "evaluate_x = Variable(test_loader.dataset.test_data.type_as(torch.FloatTensor())).cuda()\n",
    "evaluate_y = Variable(test_loader.dataset.test_labels).cuda()\n",
    "\n",
    "\n",
    "output = model(evaluate_x)\n",
    "pred = output.data.max(1)[1]\n",
    "d = pred.eq(evaluate_y.data).cpu()\n",
    "accuracy = d.sum()/d.size()[0]\n",
    "\n",
    "print('Accuracy:', accuracy)\n",
    "d"
   ]
  },
  {
   "cell_type": "markdown",
   "metadata": {},
   "source": [
    "## GPU и нейронные сети\n",
    "### CPU\n",
    "- несколько сложных ядер\n",
    "- оптимизация для выполнения на 1 треде\n",
    "\n",
    "### GPU\n",
    "- тысячи простых ядер\n",
    "- тысячи асинхронных тредов\n",
    "- оптимизации для операций с float-числами"
   ]
  },
  {
   "cell_type": "code",
   "execution_count": 8,
   "metadata": {},
   "outputs": [
    {
     "data": {
      "image/jpeg": "[encoded data removed]",
      "text/html": [
       "\n",
       "        <iframe\n",
       "            width=\"400\"\n",
       "            height=\"300\"\n",
       "            src=\"https://www.youtube.com/embed/-P28LKWTzrI\"\n",
       "            frameborder=\"0\"\n",
       "            allowfullscreen\n",
       "        ></iframe>\n",
       "        "
      ],
      "text/plain": [
       "<IPython.lib.display.YouTubeVideo at 0x1230811d0>"
      ]
     },
     "execution_count": 8,
     "metadata": {},
     "output_type": "execute_result"
    }
   ],
   "source": [
    "from IPython.display import YouTubeVideo\n",
    "# a talk about IPython at Sage Days at U. Washington, Seattle.\n",
    "# Video credit: William Stein.\n",
    "YouTubeVideo('-P28LKWTzrI')"
   ]
  },
  {
   "cell_type": "markdown",
   "metadata": {},
   "source": [
    "###  Где найти сервер с GPU:\n",
    "- Amazon\n",
    "- google cloud (free trial: 300$)\n",
    "- google.colab\n",
    "- kaggle kernels\n",
    "\n",
    "https://towardsdatascience.com/maximize-your-gpu-dollars-a9133f4e546a"
   ]
  },
  {
   "cell_type": "markdown",
   "metadata": {},
   "source": [
    "## Обзор задач:\n",
    "- применение нейронных сетей к картинкам (CNN)\n",
    "- применение нейронных сетей к последовательностям и текстам (RNN)\n",
    "- современные архитектуры нейронных сетей"
   ]
  },
  {
   "cell_type": "markdown",
   "metadata": {},
   "source": [
    "### Опрос в конце лекции\n",
    "https://forms.gle/cNRwS15sfJG9yADx6"
   ]
  },
  {
   "cell_type": "markdown",
   "metadata": {},
   "source": [
    "### Дополнительные материалы\n",
    "https://pytorch.org/docs/stable/index.html  \n",
    "https://medium.com/@karpathy/yes-you-should-understand-backprop-e2f06eab496b  \n",
    "http://keras.io  \n",
    "https://www.tensorflow.org/api_docs  \n",
    "https://towardsdatascience.com/maximize-your-gpu-dollars-a9133f4e546a"
   ]
  }
 ],
 "metadata": {
  "kernelspec": {
   "display_name": "Python 3",
   "language": "python",
   "name": "python3"
  },
  "language_info": {
   "codemirror_mode": {
    "name": "ipython",
    "version": 3
   },
   "file_extension": ".py",
   "mimetype": "text/x-python",
   "name": "python",
   "nbconvert_exporter": "python",
   "pygments_lexer": "ipython3",
   "version": "3.7.4"
  }
 },
 "nbformat": 4,
 "nbformat_minor": 2
}
